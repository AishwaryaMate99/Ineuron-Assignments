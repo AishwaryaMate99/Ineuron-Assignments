{
 "cells": [
  {
   "cell_type": "code",
   "execution_count": 1,
   "metadata": {},
   "outputs": [],
   "source": [
    "import numpy as np\n",
    "from scipy import stats\n",
    "import math\n",
    "import statistics\n",
    "import matplotlib.pyplot as plt\n",
    "from scipy.stats import poisson"
   ]
  },
  {
   "cell_type": "markdown",
   "metadata": {},
   "source": [
    "**Calculate the mean, median, mode and standard deviation for the problem  statements 1& 2.**\n",
    "- Problem Statement 1:** \n",
    "    - The marks awarded for an assignment set for a Year 8 class of 20 students were as  follows: \n",
    "    6 7 5 7 7 8 7 6 9 7 4 10 6 8 8 9 5 6 4 8 \n"
   ]
  },
  {
   "cell_type": "code",
   "execution_count": 2,
   "metadata": {},
   "outputs": [
    {
     "name": "stdout",
     "output_type": "stream",
     "text": [
      "The mean of the marks:  6.85\n",
      "The median of the marks:  7.0\n",
      "The mode of the marks:  7\n",
      "The standard deviation of the marks:  1.5898113095584647\n"
     ]
    }
   ],
   "source": [
    "marks = np.asarray([6,7,5,7,7,8,7,6,9,7,4,10,6,8,8,9,5,6,4,8])\n",
    "\n",
    "print('The mean of the marks: ', np.mean(marks))\n",
    "print('The median of the marks: ', np.median(marks))\n",
    "print('The mode of the marks: ', statistics.mode(marks))\n",
    "print('The standard deviation of the marks: ', np.std(marks))"
   ]
  },
  {
   "cell_type": "markdown",
   "metadata": {},
   "source": [
    "**Problem Statement 2:**  \n",
    "  - The number of calls from motorists per day for roadside service was recorded for a  particular month: \n",
    "    28, 122, 217, 130, 120, 86, 80, 90, 140, 120, 70, 40, 145, 113, 90, 68, 174, 194, 170,  100,     75, 104, 97, 75, \n",
    "    123, 100, 75, 104, 97, 75, 123, 100, 89, 120, 109 \n"
   ]
  },
  {
   "cell_type": "code",
   "execution_count": 3,
   "metadata": {},
   "outputs": [
    {
     "name": "stdout",
     "output_type": "stream",
     "text": [
      "The mean of the calls:  107.51428571428572\n",
      "The median of the calls:  100.0\n",
      "The mode of the calls:  75\n",
      "The standard deviation of the calls:  38.77287080168403\n"
     ]
    }
   ],
   "source": [
    "num_of_calls = [28,122,217,130,120,86,80,90,140,120,70,40,145,113,90,68,174,194,170,100,75,104,97,75,\n",
    "123,100,75,104,97,75,123,100,89,120,109]\n",
    "\n",
    "print('The mean of the calls: ', np.mean(num_of_calls))\n",
    "print('The median of the calls: ', np.median(num_of_calls))\n",
    "print('The mode of the calls: ', statistics.mode(num_of_calls))\n",
    "print('The standard deviation of the calls: ', np.std(num_of_calls))"
   ]
  },
  {
   "cell_type": "markdown",
   "metadata": {},
   "source": [
    "**Problem Statement 3:**  \n",
    "- The number of times I go to the gym in weekdays, are given below along with its  associated probability: \n",
    "- x = 0, 1, 2, 3, 4, 5 \n",
    "- f(x) = 0.09, 0.15, 0.40, 0.25, 0.10, 0.01 \n",
    "- Calculate the mean no. of workouts in a week. Also evaluate the variance involved in  it. \n"
   ]
  },
  {
   "cell_type": "code",
   "execution_count": 4,
   "metadata": {},
   "outputs": [
    {
     "name": "stdout",
     "output_type": "stream",
     "text": [
      "The mean workout is:  2.15\n",
      "The variance of workout:  1.2274999999999998\n"
     ]
    }
   ],
   "source": [
    "x = np.array([0,1,2,3,4,5])\n",
    "f_x= np.array([0.09,0.15,0.40,0.25,0.10,0.01])\n",
    "mean = np.dot(x,f_x)\n",
    "var_x = (x-mean)**2\n",
    "variance = np.dot(var_x, f_x)\n",
    "print('The mean workout is: ',mean)\n",
    "print('The variance of workout: ',variance)"
   ]
  },
  {
   "cell_type": "markdown",
   "metadata": {},
   "source": [
    "**Problem Statement 4:**\n",
    "\n",
    "Let the continuous random variable D denote the diameter of the hole drilled in an aluminum sheet. The target diameter to be achieved is 12.5mm. Random disturbances in the process often result in inaccuracy.\n",
    "Historical data shows that the distribution of D can be modelled by the PDF (𝑑) = 20𝑒−20(𝑑−12.5), 𝑑 ≥ 12.5. If a part with diameter > 12.6 mm needs to be scrapped, what is the proportion of those parts? What is the CDF when the diameter is of 11mm? What is your conclusion regarding the proportion of scraps?"
   ]
  },
  {
   "cell_type": "code",
   "execution_count": 5,
   "metadata": {},
   "outputs": [
    {
     "name": "stdout",
     "output_type": "stream",
     "text": [
      "Proportion of Parts need to scrapped when d >12.6mm is :0.13533528323661398\n",
      "CDF when d= 11mm is:nan\n",
      "Proportion of CDF when d>12.5mm is : 1.0000000000000024\n"
     ]
    },
    {
     "name": "stderr",
     "output_type": "stream",
     "text": [
      "<ipython-input-5-843b8c7235b3>:3: RuntimeWarning: overflow encountered in exp\n",
      "  pdf = lambda d:20*(np.exp((-20*(d-12.5))))\n",
      "<ipython-input-5-843b8c7235b3>:7: IntegrationWarning: The maximum number of subdivisions (50) has been achieved.\n",
      "  If increasing the limit yields no improvement it is advised to analyze \n",
      "  the integrand in order to determine the difficulties.  If the position of a \n",
      "  local difficulty can be determined (singularity, discontinuity) one will \n",
      "  probably gain from splitting up the interval and calling the integrator \n",
      "  on the subranges.  Perhaps a special-purpose integrator should be used.\n",
      "  CDF=integrate.quad(pdf,-np.inf,y)\n"
     ]
    }
   ],
   "source": [
    "from scipy import integrate\n",
    "\n",
    "pdf = lambda d:20*(np.exp((-20*(d-12.5))))\n",
    "x = 12.6\n",
    "p_x=integrate.quad(pdf,12.6,np.inf)\n",
    "y = 11\n",
    "CDF=integrate.quad(pdf,-np.inf,y)\n",
    "print(f\"Proportion of Parts need to scrapped when d >12.6mm is :{p_x[0]}\")\n",
    "print(f\"CDF when d= 11mm is:{CDF[0]}\")\n",
    "print(f\"Proportion of CDF when d>12.5mm is : {integrate.quad(pdf,12.5,np.inf)[0]}\")"
   ]
  },
  {
   "cell_type": "markdown",
   "metadata": {},
   "source": [
    "**Problem Statement 5:**\n",
    "- A company manufactures LED bulbs with a faulty rate of 30%. If I randomly select 6  chosen LEDs, what is the probability of having 2 faulty LEDs in my sample?  Calculate the average value of this process. Also evaluate the standard deviation  associated with it. \n"
   ]
  },
  {
   "cell_type": "code",
   "execution_count": 6,
   "metadata": {},
   "outputs": [
    {
     "name": "stdout",
     "output_type": "stream",
     "text": [
      "The probability of getting faulty LEDs is: 0.32281666666666664\n",
      "Mean is 1.7999999999999998\n",
      "Standard deviation associated with the process is:  1.1224972160321822\n"
     ]
    }
   ],
   "source": [
    "from scipy.stats import binom\n",
    "p = sum(np.random.binomial(6, 0.3, 60000) == 2)/60000\n",
    "print('The probability of getting faulty LEDs is:', p )\n",
    "n = 6\n",
    "p = 0.3\n",
    "mean , var = binom.stats(n, p)\n",
    "std = var**0.5\n",
    "print('Mean is',mean)\n",
    "print('Standard deviation associated with the process is: ',std)"
   ]
  },
  {
   "cell_type": "markdown",
   "metadata": {},
   "source": [
    "**Problem Statement 6:**\n",
    "- Gaurav and Barakha are both preparing for entrance exams. Gaurav attempts to solve 8 questions per day with a correction rate of 75%, while Barakha averages around 12 questions per day with a correction rate of 45%. What is the probability that each of them will solve 5 questions correctly? What happens in cases of 4 and 6 correct solutions? What do you infer from it? What are the two main governing factors affecting their ability to solve questions correctly? Give a pictorial representation of the same to validate your answer."
   ]
  },
  {
   "cell_type": "code",
   "execution_count": 7,
   "metadata": {},
   "outputs": [],
   "source": [
    "from scipy.stats import binom"
   ]
  },
  {
   "cell_type": "code",
   "execution_count": 8,
   "metadata": {},
   "outputs": [
    {
     "name": "stdout",
     "output_type": "stream",
     "text": [
      "The probability of solving 5 questions correctly is: 0.04619989057299213\n",
      "The probability of Gaurav solving 4 and 6 questions correctly is: 0.026946896687150033\n",
      "The probability of Barkha solving 4 and 6 questions correctly is: 0.03609773570202611\n"
     ]
    }
   ],
   "source": [
    "print(f'The probability of solving 5 questions correctly is: {binom.pmf(5,8,0.75)* binom.pmf(5,12,0.45)}')\n",
    "print(f'The probability of Gaurav solving 4 and 6 questions correctly is: {binom.pmf(4,8,0.75)*binom.pmf(6,8,0.75)}')\n",
    "print(f'The probability of Barkha solving 4 and 6 questions correctly is: {binom.pmf(4,12,0.45)*binom.pmf(6,12,0.45)}')"
   ]
  },
  {
   "cell_type": "code",
   "execution_count": 9,
   "metadata": {},
   "outputs": [],
   "source": [
    "def correction_rate_plot(a,b):\n",
    "    fig,ax = plt.subplots(1,1)\n",
    "    x = np.arange(binom.ppf(0.01, a,b),binom.ppf(0.99, a,b))\n",
    "    ax.plot(x, binom.pmf(x, a,b), 'r*', ms=8, label='binom pmf')\n",
    "    ax.vlines(x, 0, binom.pmf(x, a,b), colors='c', lw=7, alpha=0.5)"
   ]
  },
  {
   "cell_type": "code",
   "execution_count": 10,
   "metadata": {},
   "outputs": [
    {
     "data": {
      "image/png": "[encoded data removed]",
      "text/plain": [
       "<Figure size 432x288 with 1 Axes>"
      ]
     },
     "metadata": {
      "needs_background": "light"
     },
     "output_type": "display_data"
    }
   ],
   "source": [
    "correction_rate_plot(8,0.75)"
   ]
  },
  {
   "cell_type": "code",
   "execution_count": 11,
   "metadata": {},
   "outputs": [
    {
     "data": {
      "image/png": "[encoded data removed]",
      "text/plain": [
       "<Figure size 432x288 with 1 Axes>"
      ]
     },
     "metadata": {
      "needs_background": "light"
     },
     "output_type": "display_data"
    }
   ],
   "source": [
    "correction_rate_plot(12,0.45)"
   ]
  },
  {
   "cell_type": "markdown",
   "metadata": {},
   "source": [
    "**Problem Statement 7:**\n",
    "\n",
    "- Customers arrive at a rate of 72 per hour to my shop. What is the probability of k customers arriving in 4 minutes? a) 5 customers, b) not more than 3 customers, c) more than 3 customers. Give a pictorial representation of the same to validate your answer."
   ]
  },
  {
   "cell_type": "code",
   "execution_count": 12,
   "metadata": {},
   "outputs": [
    {
     "name": "stdout",
     "output_type": "stream",
     "text": [
      "4.8\n",
      "The probability of 5 customers arriving in 4 minutes is: 0.17222222222222222\n",
      "The probabikty of not more than 3 customers arriving in 4 minutes is: 0.29555555555555557\n",
      "The probability of more 3 customers arriving in 4 minutes is: 0.7044444444444444\n"
     ]
    }
   ],
   "source": [
    "mean = (72/60)*4\n",
    "print(mean)\n",
    "distribution=np.random.poisson(mean,900)\n",
    "prob_5=np.sum(distribution==5)/900\n",
    "prob_less_than_3=np.sum(distribution<=3)/900\n",
    "prob_more_3=np.sum(distribution>3)/900\n",
    "print(f'The probability of 5 customers arriving in 4 minutes is: {prob_5}')\n",
    "print(f'The probabikty of not more than 3 customers arriving in 4 minutes is: {prob_less_than_3}')\n",
    "print(f'The probability of more 3 customers arriving in 4 minutes is: {prob_more_3}')"
   ]
  },
  {
   "cell_type": "code",
   "execution_count": 13,
   "metadata": {},
   "outputs": [
    {
     "data": {
      "text/plain": [
       "Text(0, 0.5, 'Probability')"
      ]
     },
     "execution_count": 13,
     "metadata": {},
     "output_type": "execute_result"
    },
    {
     "data": {
      "image/png": "[encoded data removed]",
      "text/plain": [
       "<Figure size 1296x720 with 1 Axes>"
      ]
     },
     "metadata": {
      "needs_background": "light"
     },
     "output_type": "display_data"
    }
   ],
   "source": [
    "x = list(range(0,10))\n",
    "fig,ax = plt.subplots(1,1,figsize=(18,10))\n",
    "ax.plot(x, poisson.pmf(x,mean), 'b*', ms=9, label='poisson pmf')\n",
    "ax.vlines(x, 0, poisson.pmf(x, mean), colors='r', lw=5, alpha=0.5)\n",
    "plt.xlabel('Number of customers')\n",
    "plt.ylabel('Probability')"
   ]
  },
  {
   "cell_type": "markdown",
   "metadata": {},
   "source": [
    "**Problem Statement 8:**\n",
    "\n",
    "- I work as a data analyst in Aeon Learning Pvt. Ltd. After analyzing data, I make reports, where I have the efficiency of entering 77 words per minute with 6 errors per hour. What is the probability that I will commit 2 errors in a 455-word financial report? What happens when the no. of words increases/decreases (in case of 1000 words, 255 words)? How is the λ affected? How does it influence the PMF? Give a pictorial representation of the same to validate your answer."
   ]
  },
  {
   "cell_type": "code",
   "execution_count": 14,
   "metadata": {},
   "outputs": [
    {
     "name": "stdout",
     "output_type": "stream",
     "text": [
      "0.1\n",
      "The probability of 2 errors in 455 words is: 0.09669027375144444\n",
      "The probability of 2 errors in 1000 words is: 0.23012815007300153\n",
      "The probability of 2 errors in 255 words is: 0.039377135392854104\n"
     ]
    }
   ],
   "source": [
    "error_rate = 6/60\n",
    "print(error_rate)\n",
    "mean = 0.1/77\n",
    "def avg(a):\n",
    "    return a * mean\n",
    "print(f'The probability of 2 errors in 455 words is: {poisson.pmf(2, mu = avg(455))}')\n",
    "print(f\"The probability of 2 errors in 1000 words is: {poisson.pmf(2, mu = avg(1000))}\")\n",
    "print(f'The probability of 2 errors in 255 words is: {poisson.pmf(2, mu = avg(255))}')"
   ]
  },
  {
   "cell_type": "markdown",
   "metadata": {},
   "source": [
    "**Problem Statement 9:**\n",
    "\n",
    "***Problem 9 and problem 4 are the same***"
   ]
  },
  {
   "cell_type": "markdown",
   "metadata": {},
   "source": [
    "**Problem Statement 10**\n",
    "\n",
    "- Please compute the following:\n",
    "- a) P(Z > 1.26), . P(Z < −0.86), P(Z > −1.37), P(−1.25 < Z < 0.37), . P(Z ≤ −4.6)\n",
    "- b) Find the value z such that P(Z > z) = 0.05\n",
    "- c) Find the value of z such that P(−z < Z < z) = 0.99"
   ]
  },
  {
   "cell_type": "code",
   "execution_count": 15,
   "metadata": {},
   "outputs": [
    {
     "name": "stdout",
     "output_type": "stream",
     "text": [
      "P(Z > 1.26) is: 0.10383468112130045\n",
      "P(Z < -0.86) is: 0.1948945212518084\n",
      "P(Z > -1.37) is: 0.914656549178033\n",
      "P(-1.25 < Z < 0.37) is: 0.5386589811336914\n",
      "P(Z ≤ -4.6) is: 2.1124547024964357e-06\n",
      "Value 𝑧 such that 𝑃 (𝑍>𝑧) = 0.05 is: 1.6448536269514729\n",
      "Value of 𝑧 such that 𝑃 (−𝑧<𝑍<𝑧) = 0.99 is: 2.3263478740408408\n"
     ]
    }
   ],
   "source": [
    "print(f'P(Z > 1.26) is: {1- stats.norm.cdf(1.26)}')\n",
    "print(f'P(Z < -0.86) is: {stats.norm.cdf(-0.86)}')\n",
    "print(f'P(Z > -1.37) is: {1- stats.norm.cdf(-1.37)}')\n",
    "print(f'P(-1.25 < Z < 0.37) is: {stats.norm.cdf(0.37)-stats.norm.cdf(-1.25)}')\n",
    "print(f'P(Z ≤ -4.6) is: {1- stats.norm.cdf(4.6)}')\n",
    "print(f'Value 𝑧 such that 𝑃 (𝑍>𝑧) = 0.05 is: {np.absolute(stats.norm.ppf(0.05))}')\n",
    "print(f'Value of 𝑧 such that 𝑃 (−𝑧<𝑍<𝑧) = 0.99 is: {stats.norm.ppf(0.99)}')"
   ]
  },
  {
   "cell_type": "markdown",
   "metadata": {},
   "source": [
    "**Problem Statement 11:**\n",
    "- The current flow in a copper wire follow a normal distribution with a mean of 10 mA and a variance of 4 (mA)2. What is the probability that a current measurement will exceed 13 mA? What is the probability that a current measurement is between 9 and 11mA? Determine the current measurement which has a probability of 0.98."
   ]
  },
  {
   "cell_type": "code",
   "execution_count": 16,
   "metadata": {},
   "outputs": [
    {
     "name": "stdout",
     "output_type": "stream",
     "text": [
      "Probability when current measurement will exceed 13 𝑚𝐴: 0.06680720126885809\n",
      "Probability when current measurement is between 9 and 11mA: 0.38292492254802624\n",
      "Current measurement which has a probability of 0.98:14.107497821263646\n"
     ]
    }
   ],
   "source": [
    "mean=10\n",
    "std=2\n",
    "print(f'Probability when current measurement will exceed 13 𝑚𝐴: {1-(stats.norm.cdf(x=13,loc=mean,scale=std))}')\n",
    "print(f'Probability when current measurement is between 9 and 11mA: {(stats.norm.cdf(x=11,loc=mean,scale=std)-stats.norm.cdf(x=9,loc=mean,scale=std))}')\n",
    "print(f'Current measurement which has a probability of 0.98:{stats.norm.ppf(q=0.98,loc=mean,scale=std)}')"
   ]
  },
  {
   "cell_type": "markdown",
   "metadata": {},
   "source": [
    "**Problem Statement 12:**\n",
    "\n",
    "- The shaft in a piston has its diameter normally distributed with a mean of 0.2508 inch and a standard deviation of 0.0005 inch. The specifications of the shaft are 0.2500 ∓ 0.0015 inch. What proportion of shafts are in sync with the specifications? If the process is centered so that the mean is equal to the target value of 0.2500, what proportion of shafts conform to the new specifications? What is your conclusion from this experiment?"
   ]
  },
  {
   "cell_type": "code",
   "execution_count": 18,
   "metadata": {},
   "outputs": [
    {
     "name": "stdout",
     "output_type": "stream",
     "text": [
      "Proportion of shafts in sync with the specifications are: 0.91924122831152\n",
      "Proportion of shafts in sync with the specifications after the process is centered is: 0.9973002039367398\n"
     ]
    }
   ],
   "source": [
    "mean=0.2508\n",
    "std=0.0005\n",
    "l1=0.2500-0.0015\n",
    "l2=0.2500+0.0015\n",
    "print(\"Proportion of shafts in sync with the specifications are:\",\n",
    "      (stats.norm.cdf(x=l2,loc=mean,scale=std)-stats.norm.cdf(x=l1,loc=mean,scale=std)))\n",
    "new_mean=0.2500\n",
    "print(\"Proportion of shafts in sync with the specifications after the process is centered is:\",\n",
    "      (stats.norm.cdf(x=l2,loc=new_mean,scale=std)-stats.norm.cdf(x=l1,loc=new_mean,scale=std)))"
   ]
  },
  {
   "cell_type": "code",
   "execution_count": null,
   "metadata": {},
   "outputs": [],
   "source": []
  }
 ],
 "metadata": {
  "kernelspec": {
   "display_name": "Python 3",
   "language": "python",
   "name": "python3"
  },
  "language_info": {
   "codemirror_mode": {
    "name": "ipython",
    "version": 3
   },
   "file_extension": ".py",
   "mimetype": "text/x-python",
   "name": "python",
   "nbconvert_exporter": "python",
   "pygments_lexer": "ipython3",
   "version": "3.8.5"
  }
 },
 "nbformat": 4,
 "nbformat_minor": 4
}
