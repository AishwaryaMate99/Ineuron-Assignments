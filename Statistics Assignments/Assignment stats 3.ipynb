{
 "cells": [
  {
   "cell_type": "code",
   "execution_count": 1,
   "metadata": {},
   "outputs": [],
   "source": [
    "import numpy as np\n",
    "import scipy.stats as st\n",
    "from scipy.stats import norm"
   ]
  },
  {
   "cell_type": "markdown",
   "metadata": {},
   "source": [
    "**Problem Statement 1:**\n",
    "- Blood glucose levels for obese patients have a mean of 100 with a standard deviation of 15. A researcher thinks that a diet high in raw cornstarch will have a positive effect on blood glucose levels. A sample of 36 patients who have tried the raw cornstarch diet have a mean glucose level of 108. Test the hypothesis that the raw cornstarch had an effect or not."
   ]
  },
  {
   "cell_type": "code",
   "execution_count": 2,
   "metadata": {},
   "outputs": [
    {
     "name": "stdout",
     "output_type": "stream",
     "text": [
      "Z score is 3.2 \n",
      "p value is 0.0006871379379158471\n",
      "Critical region is -1.9599639845400545 to 1.9599639845400545\n",
      "Reject null hypothesis. Raw cornstarch had an effect.\n"
     ]
    }
   ],
   "source": [
    "p_mean = 100\n",
    "p_std = 15\n",
    "n = 36\n",
    "s_mean = 108\n",
    "alpha = 0.05\n",
    "z = (s_mean-p_mean)/p_std*(np.sqrt(n))\n",
    "p = (st.norm.sf(abs(z)))\n",
    "print(f'Z score is {z} \\np value is {p}')\n",
    "print(f'Critical region is {norm.ppf(alpha/2)} to {-norm.ppf(alpha/2)}')\n",
    "\n",
    "if p < alpha:\n",
    "    print('Reject null hypothesis. Raw cornstarch had an effect.')\n",
    "else:\n",
    "    pritn('Accept null hypothesis.  Raw cornstarch did not have an effect.')\n",
    "      "
   ]
  },
  {
   "cell_type": "markdown",
   "metadata": {},
   "source": [
    "**Problem Statement 2:**\n",
    "- In one state, 52% of the voters are Republicans, and 48% are Democrats. In a second state, 47% of the voters are Republicans, and 53% are Democrats. Suppose a simple random sample of 100 voters are surveyed from each state.\n",
    "- What is the probability that the survey will show a greater percentage of Republican voters in the second state than in the first state?"
   ]
  },
  {
   "cell_type": "code",
   "execution_count": 3,
   "metadata": {},
   "outputs": [
    {
     "name": "stdout",
     "output_type": "stream",
     "text": [
      "Z score is 0.7080278164104213 \n",
      "p value is 0.23946399182220013\n",
      "The probability of survey to show a greater percentage of Republican voters is 0.23946399182220013\n"
     ]
    }
   ],
   "source": [
    "p1 = 0.52\n",
    "p2 = 0.47\n",
    "n1 = 100\n",
    "n2 = 100\n",
    "def z_stats(p1,p2,n1,n2,D=0): \n",
    "    n = (p1-p2)-D\n",
    "    d = np.sqrt(p1*(1-p1)/n1 +p2*(1-p2)/n2)\n",
    "    z_value = n/d\n",
    "    return z_value\n",
    "\n",
    "z = z_stats(p1,p2,n1,n2)\n",
    "p = 1- st.norm.cdf(abs(z))\n",
    "print(f'Z score is {z} \\np value is {p}')\n",
    "print(f'The probability of survey to show a greater percentage of Republican voters is {p}')"
   ]
  },
  {
   "cell_type": "markdown",
   "metadata": {},
   "source": [
    "**Problem Statement 3:**\n",
    "- You take the SAT and score 1100. The mean score for the SAT is 1026 and the standard deviation is 209. How well did you score on the test compared to the average test taker?"
   ]
  },
  {
   "cell_type": "code",
   "execution_count": 4,
   "metadata": {},
   "outputs": [
    {
     "name": "stdout",
     "output_type": "stream",
     "text": [
      " Score is in range 817 to 1235 with the z score of 0.35406698564593303\n"
     ]
    }
   ],
   "source": [
    "x = 1100\n",
    "p_mean = 1026\n",
    "p_std = 209\n",
    "alpha = 0.05\n",
    "z = (x-p_mean)/p_std\n",
    "print(f' Score is in range {p_mean-p_std} to {p_mean+p_std} with the z score of {z}')"
   ]
  },
  {
   "cell_type": "code",
   "execution_count": null,
   "metadata": {},
   "outputs": [],
   "source": []
  }
 ],
 "metadata": {
  "kernelspec": {
   "display_name": "Python 3",
   "language": "python",
   "name": "python3"
  },
  "language_info": {
   "codemirror_mode": {
    "name": "ipython",
    "version": 3
   },
   "file_extension": ".py",
   "mimetype": "text/x-python",
   "name": "python",
   "nbconvert_exporter": "python",
   "pygments_lexer": "ipython3",
   "version": "3.8.5"
  }
 },
 "nbformat": 4,
 "nbformat_minor": 4
}
