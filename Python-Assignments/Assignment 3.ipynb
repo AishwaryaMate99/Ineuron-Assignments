{
 "cells": [
  {
   "cell_type": "markdown",
   "metadata": {},
   "source": [
    "# Assignment 3"
   ]
  },
  {
   "cell_type": "code",
   "execution_count": 1,
   "metadata": {},
   "outputs": [],
   "source": [
    "'''Write a Python Program to implement your own myreduce() function which works exactly\n",
    "like Python's built-in function reduce()'''\n",
    "\n",
    "l = [10,20,30,40,50,60,70,80,99,100,100,99,98,99,42]\n",
    "def myreduce(add, l):\n",
    "    return a\n",
    "def add(a,b):\n",
    "    return a+b\n",
    "a = l[0]\n",
    "for i in range(1,len(l)):\n",
    "    b = l[i]\n",
    "    a = add(a,b)\n",
    "print(myreduce(add,l))"
   ]
  },
  {
   "cell_type": "code",
   "execution_count": 2,
   "metadata": {},
   "outputs": [],
   "source": [
    "''' Write a Python program to implement your own myfilter() function which works exactly\n",
    "like Python's built-in function filter()'''\n",
    "\n",
    "def myfilter(is_str, lst):\n",
    "    return is_str(a)\n",
    "lst = [1,2,3,4,5,'data','science','machine learning','ineuron','filter']\n",
    "lst1 =[]\n",
    "def is_str(a):\n",
    "    for i in lst:\n",
    "        if type(i)==str:\n",
    "            lst1.append(i)\n",
    "    print(lst1)\n",
    "myfilter(is_str,lst)"
   ]
  },
  {
   "cell_type": "markdown",
   "metadata": {},
   "source": [
    "**Implement List comprehensions to produce the following lists.**\n",
    "- **Write List comprehensions to produce the following Lists**\n",
    "- ['x', 'xx', 'xxx', 'xxxx', 'y', 'yy', 'yyy', 'yyyy', 'z', 'zz', 'zzz', 'zzzz']\n",
    "- ['x', 'y', 'z', 'xx', 'yy', 'zz', 'xxx', 'yyy', 'zzz', 'xxxx', 'yyyy', 'zzzz']\n",
    "- [[2], [3], [4], [3], [4], [5], [4], [5], [6]],\n",
    "- [[2, 3, 4, 5], [3, 4, 5, 6][4, 5, 6, 7], [5, 6, 7, 8]\n",
    "- [(1, 1), (2, 1), (3, 1), (1, 2), (2, 2), (3, 2), (1, 3), (2, 3), (3, 3)]"
   ]
  },
  {
   "cell_type": "code",
   "execution_count": 3,
   "metadata": {},
   "outputs": [],
   "source": [
    "[i*j for i in 'xyz' for j in range(1,5)]"
   ]
  },
  {
   "cell_type": "code",
   "execution_count": 4,
   "metadata": {},
   "outputs": [],
   "source": [
    "a = ['x','y','z']\n",
    "result = [ item*num for num in range(1,5) for item in a]\n",
    "print(str(result))  "
   ]
  },
  {
   "cell_type": "code",
   "execution_count": 5,
   "metadata": {},
   "outputs": [],
   "source": [
    "a= [2,3,4]\n",
    "result = [[item+num] for item in a for num in range(0,3)]\n",
    "print(str(result))"
   ]
  },
  {
   "cell_type": "code",
   "execution_count": 6,
   "metadata": {},
   "outputs": [],
   "source": [
    "b = [2,3,4,5]\n",
    "q = [[item+num for item in a]  for num in range(0,4)]\n",
    "print(str(q))"
   ]
  },
  {
   "cell_type": "code",
   "execution_count": 7,
   "metadata": {},
   "outputs": [],
   "source": [
    "lst = [1,2,3]\n",
    "b = [(b,a) for a in lst for b in lst]\n",
    "print(str(b))"
   ]
  },
  {
   "cell_type": "code",
   "execution_count": null,
   "metadata": {},
   "outputs": [],
   "source": []
  }
 ],
 "metadata": {
  "kernelspec": {
   "display_name": "Python 3",
   "language": "python",
   "name": "python3"
  },
  "language_info": {
   "codemirror_mode": {
    "name": "ipython",
    "version": 3
   },
   "file_extension": ".py",
   "mimetype": "text/x-python",
   "name": "python",
   "nbconvert_exporter": "python",
   "pygments_lexer": "ipython3",
   "version": "3.8.5"
  }
 },
 "nbformat": 4,
 "nbformat_minor": 4
}
